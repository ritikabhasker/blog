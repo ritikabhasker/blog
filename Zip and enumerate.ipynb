{
 "cells": [
  {
   "cell_type": "markdown",
   "metadata": {},
   "source": [
    "## Going back to basics\n",
    "\n",
    "I spent most of New Year's day debugging a scraper and trying to get it to run successfully. It's on its second run now, and hopefully, this time, I'll get a dataframe that's usable. \n",
    "\n",
    "While my computer is presumably cursing the day I bought it as it runs through the same tedious task again, I decided staring at it wouldn't be as useful as going through the basics again.\n",
    "\n",
    "Two of the most useful built-in functions in python are zip and enumerate. Here's a quick rundown on how to use them."
   ]
  },
  {
   "cell_type": "code",
   "execution_count": 1,
   "metadata": {
    "collapsed": true
   },
   "outputs": [],
   "source": [
    "#Let's first create a list:\n",
    "\n",
    "comedians = ['Richard Ayoade', 'Noel Fielding', 'Katherine Ryan', 'Gina Yashere', 'Greg Davies', 'David Mitchell', 'Miranda Hart', 'Chelsea Peretti']\n",
    "#I'm watching Big Fat Quiz of the Year as I write this, don't mind me"
   ]
  },
  {
   "cell_type": "markdown",
   "metadata": {},
   "source": [
    "<img src=\"https://24.media.tumblr.com/tumblr_mb7ag8kVEh1qlvie8o1_250.gif\">"
   ]
  },
  {
   "cell_type": "code",
   "execution_count": 2,
   "metadata": {
    "collapsed": false
   },
   "outputs": [
    {
     "name": "stdout",
     "output_type": "stream",
     "text": [
      "0 Richard Ayoade\n",
      "1 Noel Fielding\n",
      "2 Katherine Ryan\n",
      "3 Gina Yashere\n",
      "4 Greg Davies\n",
      "5 David Mitchell\n",
      "6 Miranda Hart\n",
      "7 Chelsea Peretti\n"
     ]
    }
   ],
   "source": [
    "#We can then iterate over both the indices and the names of each comedian on the list by using the enumerate function\n",
    "\n",
    "for i, a in enumerate(comedians):\n",
    "    print i, a"
   ]
  },
  {
   "cell_type": "code",
   "execution_count": 13,
   "metadata": {
    "collapsed": true
   },
   "outputs": [],
   "source": [
    "#So what if we create a second list of nationalities of each comedian?\n",
    "\n",
    "nationalities = ['UK', 'UK', 'Can', 'UK', 'UK', 'UK', 'US']\n",
    "#Big Fat Quiz of the Year is British, just in case you couldn't tell."
   ]
  },
  {
   "cell_type": "markdown",
   "metadata": {},
   "source": [
    "<img src=\"https://img.buzzfeed.com/buzzfeed-static/static/2016-01/28/8/enhanced/webdr10/enhanced-9630-1453988622-1.png?no-auto\">\n",
    "\n",
    "British comedy at its finest."
   ]
  },
  {
   "cell_type": "code",
   "execution_count": 14,
   "metadata": {
    "collapsed": false
   },
   "outputs": [
    {
     "name": "stdout",
     "output_type": "stream",
     "text": [
      "Richard Ayoade UK\n",
      "Noel Fielding UK\n",
      "Katherine Ryan Can\n",
      "Gina Yashere UK\n",
      "Greg Davies UK\n",
      "David Mitchell UK\n",
      "Miranda Hart US\n"
     ]
    }
   ],
   "source": [
    "#we can now use the zip function to combine the nationalities and comedian names\n",
    "\n",
    "for x, y in zip(comedians, nationalities):\n",
    "    print x, y"
   ]
  },
  {
   "cell_type": "code",
   "execution_count": 16,
   "metadata": {
    "collapsed": false
   },
   "outputs": [
    {
     "data": {
      "text/plain": [
       "1"
      ]
     },
     "execution_count": 16,
     "metadata": {},
     "output_type": "execute_result"
    }
   ],
   "source": [
    "#Oops. Miranda Hart isn't from the US.\n",
    "\n",
    "len(comedians) - len(nationalities)\n",
    "#Forgot to include one nationality, looks like. Let's redo that list."
   ]
  },
  {
   "cell_type": "code",
   "execution_count": 18,
   "metadata": {
    "collapsed": false
   },
   "outputs": [
    {
     "name": "stdout",
     "output_type": "stream",
     "text": [
      "Richard Ayoade UK\n",
      "Noel Fielding UK\n",
      "Katherine Ryan Can\n",
      "Gina Yashere UK\n",
      "Greg Davies UK\n",
      "David Mitchell UK\n",
      "Miranda Hart UK\n",
      "Chelsea Peretti US\n"
     ]
    }
   ],
   "source": [
    "nationalities = ['UK', 'UK', 'Can', 'UK', 'UK', 'UK', 'UK', 'US']\n",
    "\n",
    "for x, y in zip(comedians, nationalities):\n",
    "    print x, y\n",
    "    \n",
    "#That's better!"
   ]
  },
  {
   "cell_type": "code",
   "execution_count": 11,
   "metadata": {
    "collapsed": false
   },
   "outputs": [
    {
     "name": "stdout",
     "output_type": "stream",
     "text": [
      "0 ('Richard Ayoade', 'UK')\n",
      "1 ('Noel Fielding', 'UK')\n",
      "2 ('Katherine Ryan', 'Can')\n",
      "3 ('Gina Yashere', 'UK')\n",
      "4 ('Greg Davies', 'UK')\n",
      "5 ('David Mitchell', 'UK')\n",
      "6 ('Miranda Hart', 'UK')\n",
      "7 ('Chelsea Peretti', 'US')\n"
     ]
    }
   ],
   "source": [
    "#Zip returns a set of tuples based on how many lists you give it. We can also call the indices for this with enumerate:\n",
    "\n",
    "for x, y in enumerate(zip(comedians, nationalities)):\n",
    "    print x, y\n",
    "    \n",
    "#Printing out the indices lets us see that we're working with tuples."
   ]
  },
  {
   "cell_type": "code",
   "execution_count": 19,
   "metadata": {
    "collapsed": true
   },
   "outputs": [],
   "source": [
    "#Using zip, we can also create dictionaries mapping certain keys to values. Assuming we want to assign \n",
    "#each nationality to each comedian:\n",
    "\n",
    "new_dict = dict(zip(comedians, nationalities))"
   ]
  },
  {
   "cell_type": "code",
   "execution_count": 20,
   "metadata": {
    "collapsed": false
   },
   "outputs": [
    {
     "data": {
      "text/plain": [
       "{'Chelsea Peretti': 'US',\n",
       " 'David Mitchell': 'UK',\n",
       " 'Gina Yashere': 'UK',\n",
       " 'Greg Davies': 'UK',\n",
       " 'Katherine Ryan': 'Can',\n",
       " 'Miranda Hart': 'UK',\n",
       " 'Noel Fielding': 'UK',\n",
       " 'Richard Ayoade': 'UK'}"
      ]
     },
     "execution_count": 20,
     "metadata": {},
     "output_type": "execute_result"
    }
   ],
   "source": [
    "new_dict"
   ]
  },
  {
   "cell_type": "code",
   "execution_count": 21,
   "metadata": {
    "collapsed": false,
    "scrolled": true
   },
   "outputs": [
    {
     "data": {
      "text/plain": [
       "'Can'"
      ]
     },
     "execution_count": 21,
     "metadata": {},
     "output_type": "execute_result"
    }
   ],
   "source": [
    "#Awesome! So now we can see what nationality each comedian is based on their name.\n",
    "new_dict['Katherine Ryan']"
   ]
  },
  {
   "cell_type": "markdown",
   "metadata": {},
   "source": [
    "That's it! It's that simple."
   ]
  },
  {
   "cell_type": "code",
   "execution_count": null,
   "metadata": {
    "collapsed": true
   },
   "outputs": [],
   "source": []
  }
 ],
 "metadata": {
  "anaconda-cloud": {},
  "kernelspec": {
   "display_name": "Python [conda root]",
   "language": "python",
   "name": "conda-root-py"
  },
  "language_info": {
   "codemirror_mode": {
    "name": "ipython",
    "version": 2
   },
   "file_extension": ".py",
   "mimetype": "text/x-python",
   "name": "python",
   "nbconvert_exporter": "python",
   "pygments_lexer": "ipython2",
   "version": "2.7.13"
  }
 },
 "nbformat": 4,
 "nbformat_minor": 1
}
