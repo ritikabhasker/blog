{
 "cells": [
  {
   "cell_type": "code",
   "execution_count": null,
   "metadata": {
    "collapsed": true
   },
   "outputs": [],
   "source": [
    "#create list of numbers\n",
    "numbers = [0,1,2,3,4,5,6,7,8,9]"
   ]
  },
  {
   "cell_type": "markdown",
   "metadata": {},
   "source": [
    "### For loop?"
   ]
  },
  {
   "cell_type": "code",
   "execution_count": null,
   "metadata": {
    "collapsed": true
   },
   "outputs": [],
   "source": [
    "#write a for loop to iterate through each item in the numbers list and add one to that item\n",
    "nums_plus_one = []\n",
    "for x in numbers:\n",
    "    nums_plus_one.append(x+1)"
   ]
  },
  {
   "cell_type": "code",
   "execution_count": null,
   "metadata": {
    "collapsed": false
   },
   "outputs": [],
   "source": [
    "#print that out so we can see if it worked\n",
    "nums_plus_one"
   ]
  },
  {
   "cell_type": "markdown",
   "metadata": {},
   "source": [
    "### Lambda functions!"
   ]
  },
  {
   "cell_type": "code",
   "execution_count": null,
   "metadata": {
    "collapsed": true
   },
   "outputs": [],
   "source": [
    "#let's try that again using a lambda function\n",
    "numbers = [0,1,2,3,4,5,6,7,8,9]\n",
    "nums_plus_one = map(lambda x: x+1, numbers)"
   ]
  },
  {
   "cell_type": "code",
   "execution_count": null,
   "metadata": {
    "collapsed": false
   },
   "outputs": [],
   "source": [
    "#did it work?\n",
    "nums_plus_one"
   ]
  },
  {
   "cell_type": "code",
   "execution_count": null,
   "metadata": {
    "collapsed": true
   },
   "outputs": [],
   "source": [
    "#what if we want to filter out the even numbers?\n",
    "only_evens = filter(lambda x: x % 2 == 0, numbers)"
   ]
  },
  {
   "cell_type": "markdown",
   "metadata": {},
   "source": [
    "### List comprehension!\n",
    "\n",
    "<img src=https://datasciencelab.files.wordpress.com/2014/01/list1.jpg?w=830>"
   ]
  },
  {
   "cell_type": "code",
   "execution_count": null,
   "metadata": {
    "collapsed": true
   },
   "outputs": [],
   "source": [
    "#let's keep going with the array we have\n",
    "numbers = [0,1,2,3,4,5,6,7,8,9]\n",
    "nums_plus_one = [x+1 for x in numbers]"
   ]
  },
  {
   "cell_type": "code",
   "execution_count": null,
   "metadata": {
    "collapsed": false
   },
   "outputs": [],
   "source": [
    "#does it work?\n",
    "nums_plus_one"
   ]
  },
  {
   "cell_type": "code",
   "execution_count": null,
   "metadata": {
    "collapsed": true
   },
   "outputs": [],
   "source": [
    "#we can have conditions in list comprehension, too\n",
    "#here's a for loop:\n",
    "import numpy as np\n",
    "n = [1, 2, 7, 21, 3, 1, 62, 3, 34, 12, 73, 44, 12, 11, 9]\n",
    "n_bin = []\n",
    "n_mean = np.mean(n)\n",
    "for x in n:\n",
    "    if x >= n_mean:\n",
    "        n_bin.append(1)\n",
    "    else:\n",
    "        n_bin.append(0)"
   ]
  },
  {
   "cell_type": "code",
   "execution_count": null,
   "metadata": {
    "collapsed": false
   },
   "outputs": [],
   "source": [
    "#let's print that out\n",
    "n_bin"
   ]
  },
  {
   "cell_type": "code",
   "execution_count": null,
   "metadata": {
    "collapsed": true
   },
   "outputs": [],
   "source": [
    "#let's do that in list comprehension\n",
    "n = [1, 2, 7, 21, 3, 1, 62, 3, 34, 12, 73, 44, 12, 11, 9]\n",
    "n_mean = np.mean(n)"
   ]
  },
  {
   "cell_type": "markdown",
   "metadata": {},
   "source": [
    "### In small groups, return a binarize-d variable with the conditions laid out above"
   ]
  },
  {
   "cell_type": "code",
   "execution_count": null,
   "metadata": {
    "collapsed": true
   },
   "outputs": [],
   "source": [
    "#your code here!!"
   ]
  },
  {
   "cell_type": "code",
   "execution_count": null,
   "metadata": {
    "collapsed": false
   },
   "outputs": [],
   "source": [
    "#here's how we could do a chained conditional\n",
    "n = [0, 1, 0, 1, 2, 3, 5, 2, 1, 0]\n",
    "bin_or_none = [0 if x == 1 else 1 if x == 0 else None for x in n]\n",
    "bin_or_none"
   ]
  },
  {
   "cell_type": "code",
   "execution_count": null,
   "metadata": {
    "collapsed": false
   },
   "outputs": [],
   "source": [
    "#and what if we needed to add an if statement \n",
    "n = [0, 1, 50, -23, -1, 75, -3]\n",
    "math_pairs = [[x**2, np.sqrt(x)] for x in [y for y in n if y >= 0]]\n",
    "math_pairs"
   ]
  },
  {
   "cell_type": "code",
   "execution_count": null,
   "metadata": {
    "collapsed": false,
    "scrolled": true
   },
   "outputs": [],
   "source": [
    "#let's zip some lists!\n",
    "a = ['burrito','nachos','quesadillas','tamales']\n",
    "z = ['$8.99','$6.99','$5.99','$4.99']\n",
    "\n",
    "zipped = []\n",
    "for a_i, z_i in zip(a, z):\n",
    "    zipped.append([a_i, z_i])\n",
    "\n",
    "zipped"
   ]
  },
  {
   "cell_type": "code",
   "execution_count": null,
   "metadata": {
    "collapsed": false
   },
   "outputs": [],
   "source": [
    "#let's enumerate some too\n",
    "enumerated = []\n",
    "for i, a_i in enumerate(a):\n",
    "    enumerated.append([i, a_i])\n",
    "enumerated"
   ]
  },
  {
   "cell_type": "code",
   "execution_count": null,
   "metadata": {
    "collapsed": false
   },
   "outputs": [],
   "source": [
    "#just for laughs, let's zip and enumerate in list comprehension\n",
    "list_one = [10, 15, 20, 25, 40]\n",
    "list_two = [1, 2, 3, 4, 5]\n",
    "math_comp = [(x*i)/y for i, (x, y) in enumerate(zip(list_one, list_two))]\n",
    "math_comp"
   ]
  },
  {
   "cell_type": "code",
   "execution_count": null,
   "metadata": {
    "collapsed": false
   },
   "outputs": [],
   "source": [
    "#let's go through a really complicated nested loop \n",
    "import string\n",
    "vowels = ['a', 'e', 'i', 'o', 'u']\n",
    "alphabet = string.ascii_lowercase\n",
    "\n",
    "syllables = [s for syls in [[c+v for v in vowels] for c in [x for x in alphabet if x not in vowels]] for s in syls]\n",
    "syllables[0:12]"
   ]
  },
  {
   "cell_type": "code",
   "execution_count": null,
   "metadata": {
    "collapsed": false
   },
   "outputs": [],
   "source": [
    "#let's break this down\n",
    "#here's what it looks like in a for loop\n",
    "consonants = []\n",
    "for x in alphabet:\n",
    "    if x not in vowels:\n",
    "        consonants.append(x)\n",
    "        syllables = []\n",
    "        for c in consonants:\n",
    "            for v in vowels:\n",
    "                syllables.append(c+v)"
   ]
  },
  {
   "cell_type": "code",
   "execution_count": null,
   "metadata": {
    "collapsed": false
   },
   "outputs": [],
   "source": [
    "syllables[0:12]"
   ]
  },
  {
   "cell_type": "code",
   "execution_count": null,
   "metadata": {
    "collapsed": true
   },
   "outputs": [],
   "source": [
    "#and now let's break the list comprehension down into easier to understand bits\n",
    "#first let's create the consonants list\n",
    "consonants = [x for x in alphabet if x not in vowels]"
   ]
  },
  {
   "cell_type": "code",
   "execution_count": null,
   "metadata": {
    "collapsed": false
   },
   "outputs": [],
   "source": [
    "#then let's create a list of syllables\n",
    "syllables = [[c + v for v in vowels] for c in consonants]\n",
    "syllables"
   ]
  },
  {
   "cell_type": "code",
   "execution_count": null,
   "metadata": {
    "collapsed": false
   },
   "outputs": [],
   "source": [
    "syllables = [s for syls in syllables for s in syls]\n",
    "syllables"
   ]
  }
 ],
 "metadata": {
  "anaconda-cloud": {},
  "kernelspec": {
   "display_name": "Python [conda root]",
   "language": "python",
   "name": "conda-root-py"
  },
  "language_info": {
   "codemirror_mode": {
    "name": "ipython",
    "version": 2
   },
   "file_extension": ".py",
   "mimetype": "text/x-python",
   "name": "python",
   "nbconvert_exporter": "python",
   "pygments_lexer": "ipython2",
   "version": "2.7.13"
  }
 },
 "nbformat": 4,
 "nbformat_minor": 1
}
